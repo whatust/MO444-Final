{
 "cells": [
  {
   "cell_type": "code",
   "execution_count": 1,
   "metadata": {},
   "outputs": [
    {
     "name": "stderr",
     "output_type": "stream",
     "text": [
      "Using TensorFlow backend.\n",
      "/usr/lib/python3.6/importlib/_bootstrap.py:219: RuntimeWarning: compiletime version 3.5 of module 'tensorflow.python.framework.fast_tensor_util' does not match runtime version 3.6\n",
      "  return f(*args, **kwds)\n"
     ]
    }
   ],
   "source": [
    "from keras.layers import GRU, Dense, Input, Lambda, Reshape, Conv1D, Activation\n",
    "from keras.layers.merge import concatenate\n",
    "from keras.optimizers import Adam\n",
    "from keras.models import Model\n",
    "import keras.backend as K\n",
    "\n",
    "ESTIMATES_COUNT = 7\n",
    "TRUNCATED_SEQUENCE_LENGTH = 150\n",
    "PREDICTION_LENGTH = 60\n",
    "\n",
    "def smape_loss(y_true, y_pred):\n",
    "    diff = K.abs((y_true - y_pred) / K.clip(K.abs(y_true) + K.abs(y_pred), K.epsilon(), None))\n",
    "    return 200 * K.mean(diff, axis=-1)\n",
    "\n",
    "def combine_estimates(data):\n",
    "    estimates, coefs = data\n",
    "    return K.sum(estimates * coefs, axis=-1)\n",
    "\n",
    "# feed visit counts during latest TRUNCATED_SEQUENCE_LENGTH days here\n",
    "raw_data = Input(shape=(TRUNCATED_SEQUENCE_LENGTH,))\n",
    "expanded = Reshape((TRUNCATED_SEQUENCE_LENGTH, 1))(raw_data)\n",
    "conv_result = Activation('relu')(concatenate([\n",
    "    Conv1D(32, 3, padding='same')(expanded),\n",
    "    Conv1D(32, 3, dilation_rate=7, padding='same')(expanded),\n",
    "]))\n",
    "conv_result = Activation('relu')(concatenate([\n",
    "    Conv1D(32, 3, padding='same')(conv_result),\n",
    "    Conv1D(32, 3, dilation_rate=7, padding='same')(conv_result),\n",
    "]))\n",
    "conv_result = Activation('relu')(concatenate([\n",
    "    Conv1D(32, 3, padding='same')(conv_result),\n",
    "    Conv1D(32, 3, dilation_rate=7, padding='same')(conv_result),\n",
    "]))\n",
    "conv_result = Conv1D(64, 3)(conv_result)\n",
    "\n",
    "rnn_result = GRU(256)(conv_result)\n",
    "\n",
    "rnn_result = Dense(PREDICTION_LENGTH * ESTIMATES_COUNT, activation='relu')(rnn_result)\n",
    "coefs = Reshape((PREDICTION_LENGTH, ESTIMATES_COUNT))(rnn_result)\n",
    "\n",
    "# estimates_input[i] is expected to contain features (like median of visits during\n",
    "# same weekday) that will be combined to predict visit counts for i-th day\n",
    "estimates_input = Input(shape=(PREDICTION_LENGTH, ESTIMATES_COUNT))\n",
    "    \n",
    "result = Lambda(combine_estimates)([estimates_input, coefs])\n",
    "\n",
    "model = Model(inputs=[raw_data, estimates_input], outputs=result)\n",
    "model.compile(optimizer=Adam(lr=1e-3), loss=smape_loss)"
   ]
  },
  {
   "cell_type": "code",
   "execution_count": null,
   "metadata": {},
   "outputs": [],
   "source": []
  }
 ],
 "metadata": {
  "kernelspec": {
   "display_name": "Python 3",
   "language": "python",
   "name": "python3"
  },
  "language_info": {
   "codemirror_mode": {
    "name": "ipython",
    "version": 3
   },
   "file_extension": ".py",
   "mimetype": "text/x-python",
   "name": "python",
   "nbconvert_exporter": "python",
   "pygments_lexer": "ipython3",
   "version": "3.6.3"
  }
 },
 "nbformat": 4,
 "nbformat_minor": 2
}
