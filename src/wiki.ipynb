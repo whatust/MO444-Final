{
 "cells": [
  {
   "cell_type": "code",
   "execution_count": 1,
   "metadata": {},
   "outputs": [
    {
     "name": "stdout",
     "output_type": "stream",
     "text": [
      "Using matplotlib backend: TkAgg\n"
     ]
    }
   ],
   "source": [
    "%matplotlib"
   ]
  },
  {
   "cell_type": "code",
   "execution_count": 2,
   "metadata": {},
   "outputs": [
    {
     "name": "stderr",
     "output_type": "stream",
     "text": [
      "Using TensorFlow backend.\n",
      "/usr/lib/python3.6/importlib/_bootstrap.py:219: RuntimeWarning: compiletime version 3.5 of module 'tensorflow.python.framework.fast_tensor_util' does not match runtime version 3.6\n",
      "  return f(*args, **kwds)\n"
     ]
    }
   ],
   "source": [
    "import keras\n",
    "from keras import backend as K\n",
    "import numpy as np\n",
    "from os import path\n",
    "import pandas as pd"
   ]
  },
  {
   "cell_type": "code",
   "execution_count": 3,
   "metadata": {
    "collapsed": true
   },
   "outputs": [],
   "source": [
    "def cal_score(pred, ground_truth):\n",
    "    return 200 * K.mean(K.abs((y_true - y_pred) / K.clip(K.abs(y_true) + K.abs(y_pred), K.epsilon(), None)))\n",
    "\n",
    "def load_data(data_suffix):\n",
    "    \n",
    "    key = pd.read_csv(path.join('..',  input', 'key_' + data_suffix + '.csv'))\n",
    "    data = pd.read_csv(path.join('..', 'input', 'train_' + data_suffix + '.csv'))\n",
    "    ss = pd.read_csv(path.join('..', 'input', 'sample_submission_' + data_suffix + '.csv'))\n",
    "    \n",
    "    return key, data, ss\n",
    "\n",
    "def build_features(tsq, idx):\n",
    "    \n",
    "    # close range correlation\n",
    "    day_3 = tsq.iloc[page, idx-3 : idx]\n",
    "    \n",
    "    # week range correlation\n",
    "    week = tsq.iloc[page, idx-7]\n",
    "    \n",
    "    # month range correlation\n",
    "    month = tsq.iloc[page, idx-28]\n",
    "    \n",
    "    # year range correlatiion\n",
    "    year =  tsq.iloc[page, idx-364]\n",
    "    \n",
    "    x = pd.concat(day_3, week, month, year)\n",
    "    y = tsq.iloc[page, idx]\n",
    "    \n",
    "    return x, y    "
   ]
  },
  {
   "cell_type": "code",
   "execution_count": 4,
   "metadata": {},
   "outputs": [
    {
     "name": "stdout",
     "output_type": "stream",
     "text": [
      "Reading data...\n"
     ]
    }
   ],
   "source": [
    "print('Reading data...')\n",
    "key, data, ss = load_data('1')\n"
   ]
  },
  {
   "cell_type": "code",
   "execution_count": null,
   "metadata": {
    "collapsed": true
   },
   "outputs": [],
   "source": []
  }
 ],
 "metadata": {
  "kernelspec": {
   "display_name": "Python 3",
   "language": "python",
   "name": "python3"
  },
  "language_info": {
   "codemirror_mode": {
    "name": "ipython",
    "version": 3
   },
   "file_extension": ".py",
   "mimetype": "text/x-python",
   "name": "python",
   "nbconvert_exporter": "python",
   "pygments_lexer": "ipython3",
   "version": "3.6.2"
  }
 },
 "nbformat": 4,
 "nbformat_minor": 2
}
